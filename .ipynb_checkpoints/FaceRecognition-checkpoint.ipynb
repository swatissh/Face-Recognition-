{
 "cells": [
  {
   "cell_type": "code",
   "execution_count": 2,
   "metadata": {},
   "outputs": [
    {
     "name": "stdout",
     "output_type": "stream",
     "text": [
      "['BarackObama.jpg', 'Swati.JPG']\n",
      "Encoding Complete!\n",
      "Closed!\n"
     ]
    }
   ],
   "source": [
    "import cv2\n",
    "import os\n",
    "import numpy as np\n",
    "import face_recognition\n",
    "\n",
    "Image = []\n",
    "ImageName = []\n",
    "\n",
    "path = r'C:\\\\Users\\\\Swati\\\\Desktop\\\\Face Detection\\\\Images'\n",
    "\n",
    "filenames = os.listdir(path)\n",
    "print(filenames)\n",
    "for filename in filenames:\n",
    "    curImg = cv2.imread(f'{path}/{filename}')\n",
    "    Image.append(curImg)\n",
    "    ImageName.append(os.path.splitext(filename)[0])  #split the image name from path \n",
    "\n",
    "#get encodings of the known images in the folder\n",
    "def getEncodings(Image):\n",
    "    encodeList = []\n",
    "    for img in Image:\n",
    "        img = cv2.cvtColor(img, cv2.COLOR_BGR2RGB)\n",
    "        encode = face_recognition.face_encodings(img)[0]\n",
    "        encodeList.append(encode)\n",
    "    return encodeList\n",
    "\n",
    "KnownImagesEncoding = getEncodings(Image)\n",
    "print('Encoding Complete!')\n",
    " \n",
    "capture = cv2.VideoCapture(0)\n",
    " \n",
    "while capture.isOpened():\n",
    "    ret, frame = capture.read()\n",
    "    imgScaled = cv2.resize(frame,(0,0),None,0.25,0.25)\n",
    "    imgScaled = cv2.cvtColor(frame, cv2.COLOR_BGR2RGB)\n",
    "     \n",
    "    facesCurFrame = face_recognition.face_locations(imgScaled)   #face locations in each frame\n",
    "    encodesCurFrame = face_recognition.face_encodings(imgScaled,facesCurFrame)  #face encoding in each frame\n",
    "        \n",
    "    for encodeFace,faceLoc in zip(encodesCurFrame,facesCurFrame):\n",
    "        compareImgs = face_recognition.compare_faces(KnownImagesEncoding,encodeFace)\n",
    "        faceDistance = face_recognition.face_distance(KnownImagesEncoding,encodeFace)\n",
    "        matchIndex = np.argmin(faceDistance)  #to get mininmum value from faceDistance for the closet result\n",
    "        \n",
    "        if compareImgs[matchIndex]:   #if images match  \n",
    "            name = ImageName[matchIndex].upper()\n",
    "            y1,x2,y2,x1 = faceLoc\n",
    "            cv2.rectangle(frame,(x1,y1),(x2,y2),(30,182,238),2)\n",
    "            cv2.rectangle(frame,(x1,y2+30),(x2,y2),(30,182,238),cv2.FILLED) \n",
    "            cv2.putText(frame,name,(x1+15,y2+25),cv2.FONT_HERSHEY_COMPLEX,0.8,(255,255,255),2)\n",
    " \n",
    "    cv2.imshow('Webcam',frame)\n",
    "    \n",
    "    if cv2.waitKey(1) == 27: # press 'ESC' to quit\n",
    "        break\n",
    "\n",
    "capture.release()\n",
    "cv2.destroyAllWindows()\n",
    "print('Closed!')"
   ]
  },
  {
   "cell_type": "code",
   "execution_count": null,
   "metadata": {},
   "outputs": [],
   "source": []
  }
 ],
 "metadata": {
  "kernelspec": {
   "display_name": "Python 3",
   "language": "python",
   "name": "python3"
  },
  "language_info": {
   "codemirror_mode": {
    "name": "ipython",
    "version": 3
   },
   "file_extension": ".py",
   "mimetype": "text/x-python",
   "name": "python",
   "nbconvert_exporter": "python",
   "pygments_lexer": "ipython3",
   "version": "3.7.6"
  }
 },
 "nbformat": 4,
 "nbformat_minor": 2
}
